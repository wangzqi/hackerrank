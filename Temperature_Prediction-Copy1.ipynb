{
 "cells": [
  {
   "cell_type": "code",
   "execution_count": 1,
   "metadata": {},
   "outputs": [],
   "source": [
    "import sys\n",
    "import csv\n",
    "import pandas as pd\n",
    "import numpy as np\n",
    "from sklearn import linear_model\n",
    "from sklearn.ensemble import RandomForestRegressor\n",
    "from sklearn.ensemble import GradientBoostingRegressor"
   ]
  },
  {
   "cell_type": "code",
   "execution_count": 2,
   "metadata": {},
   "outputs": [
    {
     "data": {
      "text/html": [
       "<div>\n",
       "<style scoped>\n",
       "    .dataframe tbody tr th:only-of-type {\n",
       "        vertical-align: middle;\n",
       "    }\n",
       "\n",
       "    .dataframe tbody tr th {\n",
       "        vertical-align: top;\n",
       "    }\n",
       "\n",
       "    .dataframe thead th {\n",
       "        text-align: right;\n",
       "    }\n",
       "</style>\n",
       "<table border=\"1\" class=\"dataframe\">\n",
       "  <thead>\n",
       "    <tr style=\"text-align: right;\">\n",
       "      <th></th>\n",
       "      <th>yyyy</th>\n",
       "      <th>month</th>\n",
       "      <th>tmax</th>\n",
       "      <th>tmin</th>\n",
       "    </tr>\n",
       "  </thead>\n",
       "  <tbody>\n",
       "    <tr>\n",
       "      <th>0</th>\n",
       "      <td>1908</td>\n",
       "      <td>January</td>\n",
       "      <td>5.0</td>\n",
       "      <td>-1.4</td>\n",
       "    </tr>\n",
       "    <tr>\n",
       "      <th>1</th>\n",
       "      <td>1908</td>\n",
       "      <td>February</td>\n",
       "      <td>7.3</td>\n",
       "      <td>1.9</td>\n",
       "    </tr>\n",
       "    <tr>\n",
       "      <th>2</th>\n",
       "      <td>1908</td>\n",
       "      <td>March</td>\n",
       "      <td>6.2</td>\n",
       "      <td>0.3</td>\n",
       "    </tr>\n",
       "    <tr>\n",
       "      <th>3</th>\n",
       "      <td>1908</td>\n",
       "      <td>April</td>\n",
       "      <td>Missing_1</td>\n",
       "      <td>2.1</td>\n",
       "    </tr>\n",
       "    <tr>\n",
       "      <th>4</th>\n",
       "      <td>1908</td>\n",
       "      <td>May</td>\n",
       "      <td>Missing_2</td>\n",
       "      <td>7.7</td>\n",
       "    </tr>\n",
       "    <tr>\n",
       "      <th>5</th>\n",
       "      <td>1908</td>\n",
       "      <td>June</td>\n",
       "      <td>17.7</td>\n",
       "      <td>8.7</td>\n",
       "    </tr>\n",
       "    <tr>\n",
       "      <th>6</th>\n",
       "      <td>1908</td>\n",
       "      <td>July</td>\n",
       "      <td>Missing_3</td>\n",
       "      <td>11.0</td>\n",
       "    </tr>\n",
       "    <tr>\n",
       "      <th>7</th>\n",
       "      <td>1908</td>\n",
       "      <td>August</td>\n",
       "      <td>17.5</td>\n",
       "      <td>9.7</td>\n",
       "    </tr>\n",
       "    <tr>\n",
       "      <th>8</th>\n",
       "      <td>1908</td>\n",
       "      <td>September</td>\n",
       "      <td>16.3</td>\n",
       "      <td>8.4</td>\n",
       "    </tr>\n",
       "    <tr>\n",
       "      <th>9</th>\n",
       "      <td>1908</td>\n",
       "      <td>October</td>\n",
       "      <td>14.6</td>\n",
       "      <td>8.0</td>\n",
       "    </tr>\n",
       "  </tbody>\n",
       "</table>\n",
       "</div>"
      ],
      "text/plain": [
       "   yyyy      month       tmax  tmin\n",
       "0  1908    January        5.0  -1.4\n",
       "1  1908   February        7.3   1.9\n",
       "2  1908      March        6.2   0.3\n",
       "3  1908      April  Missing_1   2.1\n",
       "4  1908        May  Missing_2   7.7\n",
       "5  1908       June       17.7   8.7\n",
       "6  1908       July  Missing_3  11.0\n",
       "7  1908     August       17.5   9.7\n",
       "8  1908  September       16.3   8.4\n",
       "9  1908    October       14.6   8.0"
      ]
     },
     "execution_count": 2,
     "metadata": {},
     "output_type": "execute_result"
    }
   ],
   "source": [
    "N = 443\n",
    "df1 = pd.read_csv(\"untitled.txt\",delimiter=\"\t\")\n",
    "df1.head(10)"
   ]
  },
  {
   "cell_type": "code",
   "execution_count": 3,
   "metadata": {},
   "outputs": [],
   "source": [
    "d = {'January':1, 'February':2, 'March':3, 'April':4, 'May':5, 'June':6, 'July':7, 'August':8, 'September':9, 'October':10, 'November':11,'December':12}\n",
    "df1[\"month\"] = df1[\"month\"].map(d)"
   ]
  },
  {
   "cell_type": "code",
   "execution_count": 4,
   "metadata": {},
   "outputs": [
    {
     "name": "stdout",
     "output_type": "stream",
     "text": [
      "    yyyy  month  tmax       tmin\n",
      "11  1908     12   5.8  Missing_4\n",
      "26  1910      3   9.1  Missing_6\n",
      "28  1910      5  14.3  Missing_7\n",
      "36  1911      1   5.8  Missing_8\n",
      "43  1911      8  21.6  Missing_9 \n",
      "     yyyy  month        tmax  tmin\n",
      "3   1908      4   Missing_1   2.1\n",
      "4   1908      5   Missing_2   7.7\n",
      "6   1908      7   Missing_3  11.0\n",
      "25  1910      2   Missing_5   1.5\n",
      "48  1912      1  Missing_10   0.1\n"
     ]
    }
   ],
   "source": [
    "test_max = df1[df1['tmax'].str.contains('Missing')]\n",
    "test_min = df1[df1['tmin'].str.contains('Missing')]\n",
    "df2 = pd.concat([df1, test_max, test_min]).drop_duplicates(keep=False)\n",
    "print(test_min.head(),\"\\n\",test_max.head())"
   ]
  },
  {
   "cell_type": "code",
   "execution_count": 5,
   "metadata": {},
   "outputs": [
    {
     "name": "stdout",
     "output_type": "stream",
     "text": [
      "0.11512415349887133\n",
      "0.14285714285714285\n"
     ]
    }
   ],
   "source": [
    "print(test_min.shape[0]/df1.shape[0])\n",
    "print(test_max.shape[0]/df2.shape[0])"
   ]
  },
  {
   "cell_type": "code",
   "execution_count": 6,
   "metadata": {},
   "outputs": [
    {
     "name": "stdout",
     "output_type": "stream",
     "text": [
      "51 49\n"
     ]
    }
   ],
   "source": [
    "X_min = df2.loc[:,df2.columns != 'tmin']\n",
    "X_max = df2.loc[:,df2.columns != 'tmax']\n",
    "y_min = df2[\"tmin\"]\n",
    "y_max = df2[\"tmax\"]\n",
    "X_test_min = test_min.loc[:,df2.columns != 'tmin']\n",
    "X_test_max = test_max.loc[:,df2.columns != 'tmax']\n",
    "print(len(X_test_min),len(X_test_max))"
   ]
  },
  {
   "cell_type": "code",
   "execution_count": 7,
   "metadata": {},
   "outputs": [],
   "source": [
    "# from sklearn import preprocessing\n",
    "# scaler_min= preprocessing.StandardScaler().fit(X_min)\n",
    "# X_min= scaler_min.transform(X_min)\n",
    "# X_test_min= scaler_min.transform(X_test_min)\n",
    "\n",
    "# scaler_max= preprocessing.StandardScaler().fit(X_max)\n",
    "# X_max= scaler_max.transform(X_max)\n",
    "# X_test_max= scaler_max.transform(X_test_max)"
   ]
  },
  {
   "cell_type": "code",
   "execution_count": 8,
   "metadata": {},
   "outputs": [],
   "source": [
    "# from sklearn import preprocessing\n",
    "# scaler_min= preprocessing.StandardScaler().fit(X_min)\n",
    "# X_min= scaler_min.transform(X_min)\n",
    "# X_test_min= scaler_min.transform(X_test_min)\n",
    "\n",
    "# scaler_max= preprocessing.StandardScaler().fit(X_max)\n",
    "# X_max= scaler_max.transform(X_max)\n",
    "# X_test_max= scaler_max.transform(X_test_max)"
   ]
  },
  {
   "cell_type": "code",
   "execution_count": 9,
   "metadata": {},
   "outputs": [],
   "source": [
    "# # Linear Regression Model gave the score of 84.33\n",
    "# from sklearn.model_selection import cross_val_score\n",
    "# LR_min = linear_model.LinearRegression(normalize=True)\n",
    "# LR_min.fit(X_min, y_min)\n",
    "# scores_min = cross_val_score(LR_min, X_min, y_min, cv=20, scoring = \"neg_mean_absolute_error\")\n",
    "# print(\"MIN Scores:\", (1+scores_min.mean()/5))\n",
    "\n",
    "# LR_max = linear_model.LinearRegression(normalize=True)\n",
    "# LR_max.fit(X_max, y_max)\n",
    "# scores_max = cross_val_score(LR_max, X_max, y_max, cv=20, scoring = \"neg_mean_absolute_error\")\n",
    "\n",
    "\n",
    "# print(\"MAX Scores:\", (1+scores_max.mean()/5))\n",
    "# print(\"AVG Scores:\", (1+scores_min.mean()/10+scores_max.mean()/10))"
   ]
  },
  {
   "cell_type": "code",
   "execution_count": 10,
   "metadata": {},
   "outputs": [],
   "source": [
    "# # Random Forest Regression Model gave the score of 86.62\n",
    "# RF_min = RandomForestRegressor(n_estimators=100, oob_score=True, random_state=0)\n",
    "# RF_min.fit(X_min, y_min)\n",
    "# scores_min = cross_val_score(RF_min, X_min, y_min, cv=20, scoring = \"neg_mean_absolute_error\")\n",
    "# print(\"MIN Scores:\", (1+scores_min.mean()/5))\n",
    "\n",
    "# RF_max = RandomForestRegressor(n_estimators=100, oob_score=True, random_state=0)\n",
    "# RF_max.fit(X_max, y_max)\n",
    "# scores_max = cross_val_score(RF_max, X_max, y_max, cv=20, scoring = \"neg_mean_absolute_error\")\n",
    "# print(\"MAX Scores:\", (1+scores_max.mean()/5))\n",
    "\n",
    "# print(\"AVG Scores:\", (1+scores_min.mean()/10+scores_max.mean()/10))"
   ]
  },
  {
   "cell_type": "code",
   "execution_count": 11,
   "metadata": {},
   "outputs": [],
   "source": [
    "# # Gradient Boosting Regression Model gave the score of 87.4\n",
    "# GB_min = GradientBoostingRegressor(n_estimators=100, learning_rate=0.5, max_depth=2)\n",
    "# GB_min.fit(X_min, y_min)\n",
    "# scores_min = cross_val_score(GB_min, X_min, y_min, cv=20, scoring = \"neg_mean_absolute_error\")\n",
    "# print(\"MIN Scores:\", (1+scores_min.mean()/5))\n",
    "\n",
    "# GB_max = GradientBoostingRegressor(n_estimators=100, learning_rate=0.5, max_depth=2)\n",
    "# GB_max.fit(X_max, y_max)\n",
    "# scores_max = cross_val_score(GB_max, X_max, y_max, cv=20, scoring = \"neg_mean_absolute_error\")\n",
    "# print(\"MAX Scores:\", (1+scores_max.mean()/5))\n",
    "\n",
    "# print(\"AVG Scores:\", (1+scores_min.mean()/10+scores_max.mean()/10))\n"
   ]
  },
  {
   "cell_type": "code",
   "execution_count": 12,
   "metadata": {},
   "outputs": [],
   "source": [
    "# from sklearn.model_selection import GridSearchCV\n",
    "\n",
    "# param_grid = {\"n_estimators\": [100, 400, 700, 1000], \"learning_rate\": [0.02, 0.1], \"max_depth\":[2,3,4,5,6]}\n",
    "# GB_min = GradientBoostingRegressor()\n",
    "# RG = GridSearchCV(GB_min, param_grid,scoring = \"neg_mean_absolute_error\" )\n",
    "# RG.fit(X_min, y_min)\n",
    "# RG.best_params_\n"
   ]
  },
  {
   "cell_type": "code",
   "execution_count": 13,
   "metadata": {},
   "outputs": [
    {
     "name": "stdout",
     "output_type": "stream",
     "text": [
      "MIN Scores: 0.8816194606571629\n",
      "MAX Scores: 0.8507551492995014\n",
      "AVG Scores: 0.8661873049783322\n"
     ]
    }
   ],
   "source": [
    "# Gradient Boosting Regression Model gave the score of 87.8\n",
    "from sklearn.model_selection import cross_val_score\n",
    "GB_min = GradientBoostingRegressor(n_estimators=400, learning_rate=0.02)\n",
    "GB_min.fit(X_min, y_min)\n",
    "scores_min = cross_val_score(GB_min, X_min, y_min, cv=20, scoring = \"neg_mean_absolute_error\")\n",
    "print(\"MIN Scores:\", (1+scores_min.mean()/5))\n",
    "\n",
    "GB_max = GradientBoostingRegressor(n_estimators=400, learning_rate=0.02)\n",
    "GB_max.fit(X_max, y_max)\n",
    "scores_max = cross_val_score(GB_max, X_max, y_max, cv=20, scoring = \"neg_mean_absolute_error\")\n",
    "print(\"MAX Scores:\", (1+scores_max.mean()/5))\n",
    "\n",
    "print(\"AVG Scores:\", (1+scores_min.mean()/10+scores_max.mean()/10))\n"
   ]
  },
  {
   "cell_type": "markdown",
   "metadata": {},
   "source": [
    "### The information in the test_min should be helpful to predict test_max. We will use iterative approach to see whether this will helps."
   ]
  },
  {
   "cell_type": "code",
   "execution_count": 13,
   "metadata": {},
   "outputs": [
    {
     "name": "stdout",
     "output_type": "stream",
     "text": [
      "51 49\n",
      "51 49\n"
     ]
    }
   ],
   "source": [
    "pred_tmax =  pd.DataFrame(GB_max.predict(X_test_max), columns=[\"tmax\"])\n",
    "pred_tmin =  pd.DataFrame(GB_min.predict(X_test_min), columns=[\"tmin\"])\n",
    "pred_tmin.head()\n",
    "print(len(X_test_min),len(X_test_max))\n",
    "print(len(pred_tmin),len(pred_tmax))"
   ]
  },
  {
   "cell_type": "code",
   "execution_count": 14,
   "metadata": {},
   "outputs": [],
   "source": [
    "X_min = df2.loc[:,df2.columns != 'tmin']\n",
    "X_max = df2.loc[:,df2.columns != 'tmax']\n",
    "y_min = df2[\"tmin\"]\n",
    "y_max = df2[\"tmax\"]\n",
    "X_test_min = test_min.loc[:,df2.columns != 'tmin']\n",
    "X_test_max = test_max.loc[:,df2.columns != 'tmax']"
   ]
  },
  {
   "cell_type": "code",
   "execution_count": 15,
   "metadata": {},
   "outputs": [],
   "source": [
    "X_min1 = pd.concat([X_test_max.iloc[:,0:2].reset_index(drop=True), pred_tmax], axis=1)\n",
    "X_min1 = X_min1.append(X_min)\n",
    "y_min1 = X_test_max.iloc[:,2].append(y_min)\n",
    "\n",
    "X_max1 = pd.concat([X_test_min.iloc[:,0:2].reset_index(drop=True), pred_tmin], axis=1)\n",
    "X_max1 = X_max1.append(X_max)\n",
    "y_max1 = X_test_min.iloc[:,2].append(y_max)\n",
    "\n",
    "X_min1= scaler_min.transform(X_min1)\n",
    "X_test_min = scaler_min.transform(X_test_min)\n",
    "X_max1= scaler_max.transform(X_max1)\n",
    "X_test_max = scaler_max.transform(X_test_max)\n"
   ]
  },
  {
   "cell_type": "code",
   "execution_count": 16,
   "metadata": {},
   "outputs": [
    {
     "name": "stdout",
     "output_type": "stream",
     "text": [
      "MIN Scores: 0.891578117302714\n",
      "MAX Scores: 0.855948908972629\n",
      "AVG Scores: 0.8737635131376715\n"
     ]
    }
   ],
   "source": [
    "#Gradient Boosting Regression Model gave the score of 87.8\n",
    "GB_min = GradientBoostingRegressor(n_estimators=400, learning_rate=0.02)\n",
    "GB_min.fit(X_min1, y_min1)\n",
    "scores_min = cross_val_score(GB_min, X_min1, y_min1, cv=20, scoring = \"neg_mean_absolute_error\")\n",
    "print(\"MIN Scores:\", (1+scores_min.mean()/5))\n",
    "\n",
    "GB_max = GradientBoostingRegressor(n_estimators=400, learning_rate=0.02)\n",
    "GB_max.fit(X_max1, y_max1)\n",
    "scores_max = cross_val_score(GB_max, X_max1, y_max1, cv=20, scoring = \"neg_mean_absolute_error\")\n",
    "print(\"MAX Scores:\", (1+scores_max.mean()/5))\n",
    "\n",
    "print(\"AVG Scores:\", (1+scores_min.mean()/10+scores_max.mean()/10))\n"
   ]
  },
  {
   "cell_type": "markdown",
   "metadata": {},
   "source": [
    "### Print for hackerRank submission"
   ]
  },
  {
   "cell_type": "code",
   "execution_count": 27,
   "metadata": {},
   "outputs": [
    {
     "name": "stdout",
     "output_type": "stream",
     "text": [
      "9.0\n",
      "16.0\n",
      "18.6\n",
      "-0.1\n",
      "6.8\n",
      "2.5\n",
      "6.0\n",
      "0.4\n",
      "11.8\n",
      "5.3\n",
      "1.0\n",
      "10.4\n",
      "15.2\n",
      "17.9\n",
      "3.0\n",
      "6.4\n",
      "11.1\n",
      "6.9\n",
      "9.0\n",
      "13.2\n",
      "3.7\n",
      "17.9\n",
      "11.9\n",
      "6.4\n",
      "-0.7\n",
      "19.1\n",
      "16.4\n",
      "12.3\n",
      "-0.1\n",
      "17.9\n",
      "4.2\n",
      "9.4\n",
      "8.5\n",
      "18.6\n",
      "18.5\n",
      "15.1\n",
      "5.0\n",
      "0.1\n",
      "3.1\n",
      "9.9\n",
      "15.5\n",
      "2.2\n",
      "2.9\n",
      "3.2\n",
      "3.8\n",
      "18.7\n",
      "-0.3\n",
      "7.6\n",
      "17.2\n",
      "11.4\n",
      "16.6\n",
      "11.8\n",
      "8.4\n",
      "5.2\n",
      "0.5\n",
      "3.5\n",
      "16.7\n",
      "12.4\n",
      "12.0\n",
      "9.7\n",
      "15.5\n",
      "4.6\n",
      "6.3\n",
      "7.8\n",
      "7.1\n",
      "10.9\n",
      "11.3\n",
      "3.5\n",
      "10.6\n",
      "16.8\n",
      "5.5\n",
      "3.2\n",
      "6.1\n",
      "11.0\n",
      "5.8\n",
      "8.6\n",
      "18.7\n",
      "4.1\n",
      "0.1\n",
      "8.6\n",
      "11.9\n",
      "2.8\n",
      "9.1\n",
      "18.7\n",
      "2.5\n",
      "10.7\n",
      "6.7\n",
      "3.1\n",
      "-0.4\n",
      "7.1\n",
      "4.8\n",
      "11.2\n",
      "13.0\n",
      "-2.1\n",
      "6.3\n",
      "6.4\n",
      "3.6\n",
      "-1.0\n",
      "3.5\n",
      "11.6\n"
     ]
    }
   ],
   "source": [
    "r1  = []\n",
    "GB_min1 = GradientBoostingRegressor(n_estimators=400, learning_rate=0.02, max_depth=3)\n",
    "GB_min1.fit(X_min1, y_min1)\n",
    "for i,j in enumerate(GB_min1.predict(X_test_min)):\n",
    "    r1.append((test_min.index[i],round(j,1)))\n",
    "\n",
    "GB_max1 = GradientBoostingRegressor(n_estimators=400, learning_rate=0.02, max_depth=3)\n",
    "GB_max1.fit(X_max1, y_max1)\n",
    "for i,j in enumerate(GB_max1.predict(X_test_max)):\n",
    "    r1.append((test_max.index[i],round(j,1)))    \n",
    "\n",
    "r1.sort()\n",
    "for k in range(len(r1)):\n",
    "    print(r1[k][1])    \n"
   ]
  },
  {
   "cell_type": "code",
   "execution_count": null,
   "metadata": {},
   "outputs": [],
   "source": []
  }
 ],
 "metadata": {
  "kernelspec": {
   "display_name": "Python 3",
   "language": "python",
   "name": "python3"
  },
  "language_info": {
   "codemirror_mode": {
    "name": "ipython",
    "version": 3
   },
   "file_extension": ".py",
   "mimetype": "text/x-python",
   "name": "python",
   "nbconvert_exporter": "python",
   "pygments_lexer": "ipython3",
   "version": "3.7.6"
  }
 },
 "nbformat": 4,
 "nbformat_minor": 4
}
